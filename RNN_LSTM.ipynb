{
 "cells": [
  {
   "cell_type": "markdown",
   "metadata": {},
   "source": [
    "<font color=\"purple\"/>\n",
    "## Yapay Sinir Ağları - 1188132111 \n",
    "\n",
    "# RNN (Recurrent Neural Network)\n",
    "\n",
    "<font color=\"black\"/>\n",
    "Tekrarlayan bir sinir ağı (RNN), düğümler arasındaki bağlantıların geçici bir dizi boyunca yönlendirilmiş bir grafik oluşturduğu bir yapay sinir ağı sınıfıdır.<br>\n",
    "İleri beslemeli sinir ağlarından türetilen RNN'ler, değişken uzunluklu giriş dizilerini işlemek için dahili durumlarını (belleklerini) kullanabilirler.\n",
    "<p> Bu yaklaşım <strong> sıralı veriler</strong> için faydalıdır.<br>\n",
    "Çünkü her nöron ya da ünite bir önceki girdi ile ilgili bilgileri korumak için dahili belleği kullanır.<br><strong> RNN'in eski (önceki) bilgileri kullanımına dayalı bir yaklaşımı vardır.</strong><br>\n",
    "Mesela \"Havuç toprakta yetişir\" cümlesi olsun ve buradaki \"toprak\" kelimesini tahmin etmek kolaydır.<br>\n",
    "    Fakat bağlamlar arası boşluk arttığında RNN modelinin geçmişten gelen bir bilgiyi kullanması oldukça zordur.<br>\n",
    "    Bu problemi çözmek için uzun vadeli bağımlılıkları öğrenebilen ve <strong> özel bir RNN türü</strong>olan LSTM sıklıkla kullanılmakta.<br>\n",
    "    LSTM, RNN'in bir türüdür ve bu iki kavram birbiri ile ilişkilidir.<br>\n",
    "</p> \n",
    "\n",
    "Bu çalışmada kullanacağım dataset <a href=\"https://www.kaggle.com/lakshmi25npathi/imdb-dataset-of-50k-movie-reviews/data?select=IMDB+Dataset.csv\">Kaggle IMDB</a> datasetidir. <br>\n",
    "\n",
    "Veri kümesini indirir ve sıkıştırılmış dosyayı çıkarırsanız, bir CSV dosyası görürsünüz. Dosya 50.000 kayıt ve iki sütun içerir: review ve sentiment. Sentiment sütunu 2 values içerir -> positive ve negative <br>\n",
    "\n",
    "\n",
    "<p style=\"color:pink;\">Duygu sütununun iki değeri var dedik, yani \"pozitif\" ve \"negatif\", bu da sorunumuzu ikili bir sınıflandırma problemi haline getirir. </p>\n",
    "<hr> \n",
    "\n",
    "* [Gerekli kütüphanelerin yüklenmesi](#1)\n",
    "* [Datasetin yüklenmesi ve incelenmesi](#2)\n",
    "* [Data Preprocessing (Veri Önişleme)](#3)\n",
    "* [Preparing the Embedding Layer (Gömme Katmanının Hazırlanması)](#4)\n",
    "* [Text Classification with Simple Neural Network](#5)\n",
    "* [RNN & LSTM](#6)"
   ]
  },
  {
   "cell_type": "markdown",
   "metadata": {},
   "source": [
    "<a id=\"1\"></a>\n",
    "\n",
    "<font color=\"purple\"/>\n",
    "\n",
    "# Gerekli Kütüphanelerin Yüklenmesi"
   ]
  },
  {
   "cell_type": "code",
   "execution_count": 39,
   "metadata": {},
   "outputs": [],
   "source": [
    "import pandas as pd\n",
    "import numpy as np\n",
    "import re\n",
    "import nltk\n",
    "from nltk.corpus import stopwords\n",
    "\n",
    "from numpy import array\n",
    "from keras.preprocessing.text import one_hot\n",
    "from keras.preprocessing.sequence import pad_sequences\n",
    "from keras.models import Sequential\n",
    "from keras.layers.core import Activation, Dropout, Dense\n",
    "from keras.layers import Flatten\n",
    "from keras.layers import GlobalMaxPooling1D\n",
    "from keras.layers.embeddings import Embedding\n",
    "from sklearn.model_selection import train_test_split\n",
    "from keras.preprocessing.text import Tokenizer\n"
   ]
  },
  {
   "cell_type": "markdown",
   "metadata": {},
   "source": [
    "<a id=\"2\"></a>\n",
    "\n",
    "<font color=\"purple\"/>\n",
    "\n",
    "# Datasetin Yüklenmesi ve İncelenmesi\n",
    "\n",
    "<font color=\"black\"/>\n",
    "\n",
    "Şimdi veri setimizi içe aktaralım ve analiz edelim. <br>\n",
    "\n",
    "Aşağıdaki komut dosyasında, veri setimizi içeren CSV dosyasını okumak için pandas kütüphanesinin read_csv () yöntemini kullanıyoruz. Bir sonraki satırda, veri kümesinin NULL değeri içerip içermediğini kontrol ediyoruz. Son olarak, veri setimizin şeklini yazdırıyoruz."
   ]
  },
  {
   "cell_type": "code",
   "execution_count": 5,
   "metadata": {},
   "outputs": [
    {
     "data": {
      "text/plain": [
       "False"
      ]
     },
     "execution_count": 5,
     "metadata": {},
     "output_type": "execute_result"
    }
   ],
   "source": [
    "movie_reviews = pd.read_csv(\"IMDB Dataset.csv\")\n",
    "\n",
    "movie_reviews.isnull().values.any()\n",
    "# Bu datasetin içerisinde herhangi boş bir değer var mı ?"
   ]
  },
  {
   "cell_type": "code",
   "execution_count": 6,
   "metadata": {},
   "outputs": [
    {
     "data": {
      "text/plain": [
       "(50000, 2)"
      ]
     },
     "execution_count": 6,
     "metadata": {},
     "output_type": "execute_result"
    }
   ],
   "source": [
    "movie_reviews.shape # satır-sütun bilgisi"
   ]
  },
  {
   "cell_type": "code",
   "execution_count": 7,
   "metadata": {},
   "outputs": [],
   "source": [
    "# Evet movie_reviews datasetimizde 2 sütun (review ve sentiment) ve 50000 gözlem varmış"
   ]
  },
  {
   "cell_type": "code",
   "execution_count": 8,
   "metadata": {},
   "outputs": [
    {
     "data": {
      "text/html": [
       "<div>\n",
       "<style scoped>\n",
       "    .dataframe tbody tr th:only-of-type {\n",
       "        vertical-align: middle;\n",
       "    }\n",
       "\n",
       "    .dataframe tbody tr th {\n",
       "        vertical-align: top;\n",
       "    }\n",
       "\n",
       "    .dataframe thead th {\n",
       "        text-align: right;\n",
       "    }\n",
       "</style>\n",
       "<table border=\"1\" class=\"dataframe\">\n",
       "  <thead>\n",
       "    <tr style=\"text-align: right;\">\n",
       "      <th></th>\n",
       "      <th>review</th>\n",
       "      <th>sentiment</th>\n",
       "    </tr>\n",
       "  </thead>\n",
       "  <tbody>\n",
       "    <tr>\n",
       "      <th>0</th>\n",
       "      <td>One of the other reviewers has mentioned that ...</td>\n",
       "      <td>positive</td>\n",
       "    </tr>\n",
       "    <tr>\n",
       "      <th>1</th>\n",
       "      <td>A wonderful little production. &lt;br /&gt;&lt;br /&gt;The...</td>\n",
       "      <td>positive</td>\n",
       "    </tr>\n",
       "    <tr>\n",
       "      <th>2</th>\n",
       "      <td>I thought this was a wonderful way to spend ti...</td>\n",
       "      <td>positive</td>\n",
       "    </tr>\n",
       "    <tr>\n",
       "      <th>3</th>\n",
       "      <td>Basically there's a family where a little boy ...</td>\n",
       "      <td>negative</td>\n",
       "    </tr>\n",
       "    <tr>\n",
       "      <th>4</th>\n",
       "      <td>Petter Mattei's \"Love in the Time of Money\" is...</td>\n",
       "      <td>positive</td>\n",
       "    </tr>\n",
       "  </tbody>\n",
       "</table>\n",
       "</div>"
      ],
      "text/plain": [
       "                                              review sentiment\n",
       "0  One of the other reviewers has mentioned that ...  positive\n",
       "1  A wonderful little production. <br /><br />The...  positive\n",
       "2  I thought this was a wonderful way to spend ti...  positive\n",
       "3  Basically there's a family where a little boy ...  negative\n",
       "4  Petter Mattei's \"Love in the Time of Money\" is...  positive"
      ]
     },
     "execution_count": 8,
     "metadata": {},
     "output_type": "execute_result"
    }
   ],
   "source": [
    "movie_reviews.head() #  Şimdi head () yöntemini kullanarak veri kümesinin ilk 5 satırını yazdıralım.\n",
    "# Çıktıda aşağıdaki veri çerçevesini göreceksiniz:"
   ]
  },
  {
   "cell_type": "markdown",
   "metadata": {},
   "source": [
    "Bakın review verisi stringlerden oluşuyor ve bu metin verisinin üzerinde işlem yapmamız için veriyi temizlemeliyiz."
   ]
  },
  {
   "cell_type": "code",
   "execution_count": 9,
   "metadata": {},
   "outputs": [
    {
     "data": {
      "text/plain": [
       "\"Basically there's a family where a little boy (Jake) thinks there's a zombie in his closet & his parents are fighting all the time.<br /><br />This movie is slower than a soap opera... and suddenly, Jake decides to become Rambo and kill the zombie.<br /><br />OK, first of all when you're going to make a film you must Decide if its a thriller or a drama! As a drama the movie is watchable. Parents are divorcing & arguing like in real life. And then we have Jake with his closet which totally ruins all the film! I expected to see a BOOGEYMAN similar movie, and instead i watched a drama with some meaningless thriller spots.<br /><br />3 out of 10 just for the well playing parents & descent dialogs. As for the shots with Jake: just ignore them.\""
      ]
     },
     "execution_count": 9,
     "metadata": {},
     "output_type": "execute_result"
    }
   ],
   "source": [
    "# Şimdi incelemelerden herhangi birine bir göz atalım, böylece işleyeceğimiz metin hakkında bir fikrimiz var. \n",
    "movie_reviews[\"review\"][3]"
   ]
  },
  {
   "cell_type": "markdown",
   "metadata": {},
   "source": [
    "<font color=\"green\" size=\"3\"/>\n",
    "Metnimizde noktalama işaretleri, köşeli parantezler ve birkaç HTML etiketi de olduğunu görebilirsiniz. Bir sonraki bölümde bu metni ön işleyeceğiz. <br>\n",
    "\n",
    "Son olarak, veri setimizde pozitif ve negatif duyguların dağılımını görelim."
   ]
  },
  {
   "cell_type": "code",
   "execution_count": 10,
   "metadata": {},
   "outputs": [
    {
     "data": {
      "text/plain": [
       "<matplotlib.axes._subplots.AxesSubplot at 0x1a441ce990>"
      ]
     },
     "execution_count": 10,
     "metadata": {},
     "output_type": "execute_result"
    },
    {
     "data": {
      "image/png": "[encoded data removed]",
      "text/plain": [
       "<Figure size 432x288 with 1 Axes>"
      ]
     },
     "metadata": {
      "needs_background": "light"
     },
     "output_type": "display_data"
    }
   ],
   "source": [
    "import seaborn as sns\n",
    "\n",
    "sns.countplot(x='sentiment', data=movie_reviews)\n",
    "# seaborn veri görselleştirme kütüphanesini kullandım."
   ]
  },
  {
   "cell_type": "code",
   "execution_count": 11,
   "metadata": {},
   "outputs": [],
   "source": [
    "#Çıktıdan, veri kümesinin eşit sayıda olumlu ve olumsuz yorum içerdiğini görüyoruz\n",
    "# toplamda 50.000 gözlemimiz vardı\n",
    "# 25.000 pozitif ve 25.000 negatif olarak dağılmış durumda"
   ]
  },
  {
   "cell_type": "markdown",
   "metadata": {},
   "source": [
    "<a id=\"3\"></a>\n",
    "\n",
    "<font color=\"purple\"/>\n",
    "\n",
    "# Data Preprocessing\n",
    "\n",
    "<hr>\n",
    "\n",
    "<font color=\"brown\" size=\"3\" />\n",
    "Veri kümemizin noktalama işaretleri ve HTML etiketleri içerdiğini gördük.<br>\n",
    "Bu bölümde, bir text stringi parametre olarak alan ve daha sonra özel karakterleri ve HTML etiketlerini text stringinden kaldırmak için veri önişleme gerçekleştiren bir fonksiyon tanımlayacağız.<br>"
   ]
  },
  {
   "cell_type": "code",
   "execution_count": null,
   "metadata": {},
   "outputs": [],
   "source": []
  },
  {
   "cell_type": "code",
   "execution_count": 12,
   "metadata": {},
   "outputs": [],
   "source": [
    "def preprocess_text(sen):\n",
    "    # Metinimiz içerisinde çeşitli html tagları vardı\n",
    "    # Bu fonksiyon içine her sentence tek tek girecek ve temizlenecek\n",
    "    sentence = remove_tags(sen)\n",
    "\n",
    "    # Remove punctuations and numbers\n",
    "    sentence = re.sub('[^a-zA-Z]', ' ', sentence)\n",
    "\n",
    "    # Single character removal\n",
    "    sentence = re.sub(r\"\\s+[a-zA-Z]\\s+\", ' ', sentence)\n",
    "\n",
    "    # Removing multiple spaces\n",
    "    sentence = re.sub(r'\\s+', ' ', sentence)\n",
    "\n",
    "    return sentence"
   ]
  },
  {
   "cell_type": "code",
   "execution_count": 13,
   "metadata": {},
   "outputs": [],
   "source": [
    "# Cümle oluşturduğumuz fonksiyona girecek ve temizlenmiş olarak çıkacak"
   ]
  },
  {
   "cell_type": "markdown",
   "metadata": {},
   "source": [
    "<font color=\"brown\" size=\"3\" />\n",
    "\n",
    "Preprocess_text () yönteminde ilk adım HTML etiketlerini kaldırmaktır.<br>\n",
    "HTML etiketlerini kaldırmak için remove_tags () fonksiyonu kullanıldı. <br>\n",
    "Remove_tags fonksiyonu, <> açma ve kapatma arasındaki herhangi bir şeyi boş bir alanla değiştirir. <br>\n",
    "Sonra, preprocess_text fonksiyonunda, büyük ve küçük  harfler hariç her şey kaldırır, bu da anlamsız olan tek karakterlerle sonuçlanır.<br>\n",
    "Daha sonra, tüm tek karakterleri kaldırırız ve bunu metnimizde birden çok boşluk içeren her cümle, bir boşlukla değiştirilir.<br> Son olarak, birden fazla boşluğu da metnimizden kaldırıyoruz."
   ]
  },
  {
   "cell_type": "code",
   "execution_count": 14,
   "metadata": {},
   "outputs": [],
   "source": [
    "TAG_RE = re.compile(r'<[^>]+>')\n",
    "\n",
    "def remove_tags(text):\n",
    "    return TAG_RE.sub('', text)"
   ]
  },
  {
   "cell_type": "markdown",
   "metadata": {},
   "source": [
    "<font color=\"brown\" size=\"3\" />\n",
    "Daha sonra, \"review\"ları ön işleyeceğiz ve aşağıda gösterildiği gibi yeni bir listede saklayacağız:\n",
    "Aşağıda movie_reviews['review'] dediğimizde bize <strong> review </strong> sütunundaki tüm gözlemleri yani her satır değerini getirir. <br>\n",
    "list(movie_reviews['review']) dediğimizde de her gözlemi bir listeye çevirir. <br>\n",
    "Biz bu liste yapısını sentence adlı değişkene atadık.<br>\n",
    "Daha sonra bu sentence'ı yukarıda önceden oluşturduğumuz fonksiyonun içerisine soktuk ve temizledik!<br>\n",
    "Bu sonucuda bir liste (X) yapısına ekledik"
   ]
  },
  {
   "cell_type": "code",
   "execution_count": 15,
   "metadata": {},
   "outputs": [],
   "source": [
    "X = []\n",
    "sentences = list(movie_reviews['review'])\n",
    "for sen in sentences:\n",
    "    X.append(preprocess_text(sen))"
   ]
  },
  {
   "cell_type": "code",
   "execution_count": 62,
   "metadata": {},
   "outputs": [
    {
     "data": {
      "text/plain": [
       "'Petter Mattei Love in the Time of Money is visually stunning film to watch Mr Mattei offers us vivid portrait about human relations This is movie that seems to be telling us what money power and success do to people in the different situations we encounter This being variation on the Arthur Schnitzler play about the same theme the director transfers the action to the present time New York where all these different characters meet and connect Each one is connected in one way or another to the next person but no one seems to know the previous point of contact Stylishly the film has sophisticated luxurious look We are taken to see how these people live and the world they live in their own habitat The only thing one gets out of all these souls in the picture is the different stages of loneliness each one inhabits big city is not exactly the best place in which human relations find sincere fulfillment as one discerns is the case with most of the people we encounter The acting is good under Mr Mattei direction Steve Buscemi Rosario Dawson Carol Kane Michael Imperioli Adrian Grenier and the rest of the talented cast make these characters come alive We wish Mr Mattei good luck and await anxiously for his next work '"
      ]
     },
     "execution_count": 62,
     "metadata": {},
     "output_type": "execute_result"
    }
   ],
   "source": [
    "X[4]"
   ]
  },
  {
   "cell_type": "markdown",
   "metadata": {},
   "source": [
    "<font color=\"green\" size=\"3\"/>\n",
    "Çıktıdan HTML etiketlerinin, noktalama işaretlerinin ve sayıların kaldırıldığını görebilirsiniz.<br>\n",
    "Sadece alfabelerle kaldık :).<br>\n",
    "Ardından, etiketlerimizi rakamlara dönüştürmemiz gerekiyor.<br>\n",
    "Çıktıda sadece iki etiket var, yani \"pozitif\" ve \"negatif\".<br>\n",
    "<strong>Aşağıda gösterildiği gibi \"pozitif\" değerini 1 rakamı ve negatifi 0 rakamı ile değiştirerek tamsayılara dönüştürebiliriz:</strong><br>"
   ]
  },
  {
   "cell_type": "code",
   "execution_count": 17,
   "metadata": {},
   "outputs": [],
   "source": [
    "y = movie_reviews['sentiment'] # sentiment sütunundaki gözlemleri y'ye atadık\n",
    "\n",
    "y = np.array(list(map(lambda x: 1 if x==\"positive\" else 0, y)))"
   ]
  },
  {
   "cell_type": "markdown",
   "metadata": {},
   "source": [
    "<font color=\"green\" size=\"3\"/>\n",
    "Son olarak, veri setimizi train ve test setlerine ayırmamız gerekiyor.<br>\n",
    "<b>Train seti, derin öğrenme modellerimizi eğitirken,test seti de modelimizin ne kadar iyi performans gösterdiğini değerlendirmek için kullanılacaktır.</b> <br>\n",
    "\n",
    "Aşağıda gösterildiği gibi sklearn.model.selection modülünden <b>train_test_split</b> yöntemini kullanabiliriz:<br>"
   ]
  },
  {
   "cell_type": "code",
   "execution_count": 18,
   "metadata": {},
   "outputs": [],
   "source": [
    "X_train, X_test, y_train, y_test = train_test_split(X, y, test_size=0.20, random_state=42)"
   ]
  },
  {
   "cell_type": "markdown",
   "metadata": {},
   "source": [
    "<font color=\"green\" size=\"3\"/>\n",
    "Yukarıdaki komut dosyası verilerimizi eğitim seti için% 80'e ve test seti için% 20'ye böler. <br>\n",
    "Şimdi gömme katmanımızın komut dosyasını yazalım.<b> Gömme katmanı, metinsel verilerimizi sayısal verilere dönüştürür </b> ve Keras'taki derin öğrenme modelleri için ilk katman olarak kullanılır."
   ]
  },
  {
   "cell_type": "markdown",
   "metadata": {},
   "source": [
    "<a id=\"4\"></a>\n",
    "\n",
    "<font color=\"purple\">\n",
    "    \n",
    "# Preparing the Embedding Layer \n",
    "\n",
    "<font color=\"black\" size=\"3\">\n",
    "    \n",
    "İlk adım olarak, word-to-index dictionary oluşturmak için keras.preprocessing.text modülünden <b> Tokenizer </b> sınıfını kullanacağız.<br>\n",
    "\n",
    "word-to-index dictionary'de, gruptaki her sözcük bir anahtar olarak kullanılırken, karşılık gelen benzersiz bir index anahtarın değeri olarak kullanılır. Yani kelimeleri indexleyerek bir dictionary yapısı oluşturacağız:"
   ]
  },
  {
   "cell_type": "code",
   "execution_count": 19,
   "metadata": {},
   "outputs": [],
   "source": [
    "tokenizer = Tokenizer(num_words=5000)\n",
    "tokenizer.fit_on_texts(X_train)\n",
    "\n",
    "X_train = tokenizer.texts_to_sequences(X_train)\n",
    "X_test = tokenizer.texts_to_sequences(X_test)"
   ]
  },
  {
   "cell_type": "markdown",
   "metadata": {},
   "source": [
    "<font color=\"green\" size=\"3\"/>\n",
    "X_train değişkenini görüntülerseniz, her listenin tamsayılar içerdiği 40.000 liste içerdiğini göreceksiniz.<br>\n",
    "<b>Her liste aslında eğitim setindeki her cümleye karşılık gelir.</b> Ayrıca, <b>her bir listenin boyutunun farklı</b> olduğunu fark edeceksiniz. <b>Çünkü cümlelerin uzunlukları farklıdır.</b> <br>\n",
    "<font color=\"purple\" size=\"3\"/>\n",
    "Her listenin maksimum boyutunu 100 olarak ayarladık. Farklı bir boyut denenebilir ben bu şekilde seçtim.<br>\n",
    "100'den büyük boyutlu listeler 100'e kısaltılır<br>\n",
    "<b>Uzunluğu 100'den az olan listeler için, listenin sonuna maksimum uzunluğa ulaşıncaya kadar 0 ekleyeceğiz.\n",
    "Bu işleme dolgu(padding) adı verilir.</b>"
   ]
  },
  {
   "cell_type": "markdown",
   "metadata": {},
   "source": [
    "Aşağıdaki komut dosyası kelime boyutunu bulur ve ardından hem train hem de test setinde dolgu (padding> gerçekleştirir."
   ]
  },
  {
   "cell_type": "code",
   "execution_count": 20,
   "metadata": {},
   "outputs": [],
   "source": [
    "#1 ekleniyor çünkü index yapısı 0'dan başlar\n",
    "vocab_size = len(tokenizer.word_index) + 1\n",
    "\n",
    "maxlen = 100\n",
    "\n",
    "X_train = pad_sequences(X_train, padding='post', maxlen=maxlen)\n",
    "X_test = pad_sequences(X_test, padding='post', maxlen=maxlen)"
   ]
  },
  {
   "cell_type": "markdown",
   "metadata": {},
   "source": [
    "<font color=\"purple\" size=\"3\"/>\n",
    "\n",
    "Şimdi X_train veya X_test'i görüntülerseniz, tüm listelerin aynı uzunluğa, yani 100'e sahip olduğunu göreceksiniz. <br>\n",
    "Ayrıca, kelime hazinesi_boyut değişkeni artık 92547 değerini içerir, bu da derlememizde 92547 benzersiz kelime olduğu anlamına gelir.<br>\n",
    "Özellik matrisimizi oluşturmak için GloVe düğünlerini kullanacağız. <br> Aşağıdaki komut dosyasında GloVe kelime düğünlerini yükler ve anahtar olarak kelimeleri ve karşılık gelen gömme listesini değerler olarak içeren bir sözlük oluştururuz."
   ]
  },
  {
   "cell_type": "markdown",
   "metadata": {},
   "source": [
    "<font size=\"4\"/>\n",
    "\n",
    "<a href=\"https://www.kaggle.com/terenceliu4444/glove6b100dtxt\"> Bu linkten glove düğümlerini indirin</a>"
   ]
  },
  {
   "cell_type": "code",
   "execution_count": 26,
   "metadata": {},
   "outputs": [],
   "source": [
    "from numpy import array\n",
    "from numpy import asarray\n",
    "from numpy import zeros\n",
    "\n",
    "embeddings_dictionary = dict()\n",
    "glove_file = open('glove.6B.100d.txt', encoding=\"utf8\")\n",
    "# buradaki glove.6B.100d.txt dosyasını kaggledan indirdik ve açtık\n",
    "\n",
    "for line in glove_file:\n",
    "    records = line.split()\n",
    "    word = records[0]\n",
    "    vector_dimensions = asarray(records[1:], dtype='float32')\n",
    "    embeddings_dictionary [word] = vector_dimensions\n",
    "glove_file.close()"
   ]
  },
  {
   "cell_type": "markdown",
   "metadata": {},
   "source": [
    "<font color=\"blue\" size=\"3\"/>\n",
    "Son olarak, her satır numarasının korpustaki kelimenin dizinine karşılık geleceği bir gömme matrisi oluşturacağız. Matris, her sütunun, topluluğumuzdaki kelimeler için GloVe kelime düğünlerini içereceği 100 sütuna sahip olacaktır."
   ]
  },
  {
   "cell_type": "code",
   "execution_count": 27,
   "metadata": {},
   "outputs": [],
   "source": [
    "embedding_matrix = zeros((vocab_size, 100))\n",
    "for word, index in tokenizer.word_index.items():\n",
    "    embedding_vector = embeddings_dictionary.get(word)\n",
    "    if embedding_vector is not None:\n",
    "        embedding_matrix[index] = embedding_vector"
   ]
  },
  {
   "cell_type": "markdown",
   "metadata": {},
   "source": [
    "Yukarıdaki komut dosyasını yürüttüğünüzde, embedding_matrix öğesinin 92547 satır içerdiğini göreceksiniz (gruptaki her sözcük için bir tane).<br> Şimdi derin öğrenme modellerimizi yaratmaya hazırız."
   ]
  },
  {
   "cell_type": "markdown",
   "metadata": {},
   "source": [
    "<a id=\"4\"></a>\n",
    "\n",
    "<font color=\"purple\">\n",
    "    \n",
    "# Text Classification with Simple Neural Network"
   ]
  },
  {
   "cell_type": "markdown",
   "metadata": {},
   "source": [
    "<font color=\"black\" size=\"3\"/>\n",
    "Geliştireceğimiz ilk derin öğrenme modeli, basit bir derin sinir ağıdır.<br>\n",
    "Aşağıdaki komut dosyasında, bir Sequential () model oluşturuyoruz.<br>\n",
    "Sonra, gömme katmanımızı yaratırız. Gömme katmanı 100 giriş uzunluğuna sahip olacak, çıkış vektörü boyutu da 100 olacak. <br>\n",
    "Kelime boyutu 92547 kelime olacak. <br>\n",
    "Kendi düğünlerimizi eğitmediğimiz ve GloVe gömmeyi kullanmadığımız için,  trainable \"False\" hale getirdik ve ağırlık özelliğinden(weight) kendi gömme matrisimizi (embedding_matrix) geçiyoruz. <br>\n"
   ]
  },
  {
   "cell_type": "code",
   "execution_count": 28,
   "metadata": {},
   "outputs": [],
   "source": [
    "model = Sequential()\n",
    "embedding_layer = Embedding(vocab_size, 100, weights=[embedding_matrix], input_length=maxlen , trainable=False)\n",
    "model.add(embedding_layer)\n",
    "\n",
    "model.add(Flatten())\n",
    "model.add(Dense(1, activation='sigmoid'))"
   ]
  },
  {
   "cell_type": "code",
   "execution_count": 29,
   "metadata": {},
   "outputs": [],
   "source": [
    "# Son olarak, sigmoid aktivasyon fonksiyonu ile yoğun bir katman ekliyoruz."
   ]
  },
  {
   "cell_type": "code",
   "execution_count": 30,
   "metadata": {},
   "outputs": [
    {
     "name": "stdout",
     "output_type": "stream",
     "text": [
      "Model: \"sequential_1\"\n",
      "_________________________________________________________________\n",
      "Layer (type)                 Output Shape              Param #   \n",
      "=================================================================\n",
      "embedding_1 (Embedding)      (None, 100, 100)          9254700   \n",
      "_________________________________________________________________\n",
      "flatten_1 (Flatten)          (None, 10000)             0         \n",
      "_________________________________________________________________\n",
      "dense_1 (Dense)              (None, 1)                 10001     \n",
      "=================================================================\n",
      "Total params: 9,264,701\n",
      "Trainable params: 10,001\n",
      "Non-trainable params: 9,254,700\n",
      "_________________________________________________________________\n",
      "None\n"
     ]
    }
   ],
   "source": [
    "# Modelimizi derlemek için adam optimizer, binary_crossentropy'yi kayıp fonksiyonumuz (loss func)\n",
    "# ve accuracy olarak metrics  kullanacağız ve sonra modelimizin özetini yazdıracağız:\n",
    "\n",
    "\n",
    "model.compile(optimizer='adam', loss='binary_crossentropy', metrics=['acc'])\n",
    "\n",
    "print(model.summary())"
   ]
  },
  {
   "cell_type": "markdown",
   "metadata": {},
   "source": [
    "<font color=\"purple\" size=\"3\"/>\n",
    "Topluluğumuzda 92547 kelime bulunduğundan ve her kelime 100 boyutlu bir vektör olarak temsil edildiğinden, gömülebilir katmanda eğitilebilir parametre sayısı 92547x100 olacaktır.<br> Düzleştirme katmanında, sadece satırları ve sütunu çoğaltırız.\n",
    "<hr>\n",
    "Son olarak yoğun tabakada parametre sayısı 10000 (düzleştirme tabakasından) ve sapma parametresi için 1'dir, toplam 10001'dir. Şimdi modelimizi eğitelim:"
   ]
  },
  {
   "cell_type": "code",
   "execution_count": 31,
   "metadata": {},
   "outputs": [
    {
     "name": "stdout",
     "output_type": "stream",
     "text": [
      "Train on 32000 samples, validate on 8000 samples\n",
      "Epoch 1/6\n",
      "32000/32000 [==============================] - 2s 54us/step - loss: 0.6050 - acc: 0.6689 - val_loss: 0.5455 - val_acc: 0.7140\n",
      "Epoch 2/6\n",
      "32000/32000 [==============================] - 1s 33us/step - loss: 0.4970 - acc: 0.7608 - val_loss: 0.5383 - val_acc: 0.7290\n",
      "Epoch 3/6\n",
      "32000/32000 [==============================] - 1s 34us/step - loss: 0.4605 - acc: 0.7860 - val_loss: 0.5159 - val_acc: 0.7465\n",
      "Epoch 4/6\n",
      "32000/32000 [==============================] - 1s 36us/step - loss: 0.4386 - acc: 0.7963 - val_loss: 0.5434 - val_acc: 0.7320\n",
      "Epoch 5/6\n",
      "32000/32000 [==============================] - 1s 36us/step - loss: 0.4216 - acc: 0.8077 - val_loss: 0.5256 - val_acc: 0.7464\n",
      "Epoch 6/6\n",
      "32000/32000 [==============================] - 1s 35us/step - loss: 0.4095 - acc: 0.8159 - val_loss: 0.5550 - val_acc: 0.7289\n"
     ]
    }
   ],
   "source": [
    "history = model.fit(X_train, y_train, batch_size=128, epochs=6, verbose=1, validation_split=0.2)"
   ]
  },
  {
   "cell_type": "markdown",
   "metadata": {},
   "source": [
    "<font color=\"purple\" size=\"3\"/>\n",
    "Yukarıdaki makalede, sinir ağımızı eğitmek için fit yöntemini kullanıyoruz. Sadece train setimiz üzerinde eğitim aldığımıza dikkat edin. <br>\n",
    "0.2 değerinin validation_split değeri, eğitim verilerinin% 20'sinin algoritmanın egzersiz doğruluğunu bulmak için kullanıldığı anlamına gelir.\n",
    "<hr>\n",
    "Eğitimin sonunda, eğitim doğruluğunun% 81.59 civarında olduğunu göreceksiniz. <br> \n",
    "Modelin performansını değerlendirmek için test setini modelimizin değerlendirme yöntemine geçirebiliriz."
   ]
  },
  {
   "cell_type": "code",
   "execution_count": 54,
   "metadata": {},
   "outputs": [
    {
     "name": "stdout",
     "output_type": "stream",
     "text": [
      "10000/10000 [==============================] - 11s 1ms/step\n"
     ]
    }
   ],
   "source": [
    "score = model.evaluate(X_test, y_test, verbose=1)"
   ]
  },
  {
   "cell_type": "code",
   "execution_count": 55,
   "metadata": {},
   "outputs": [],
   "source": [
    "# Test doğruluğunu ve kaybını kontrol etmek için aşağıdaki komut dosyasını yürütün:"
   ]
  },
  {
   "cell_type": "code",
   "execution_count": 56,
   "metadata": {},
   "outputs": [
    {
     "name": "stdout",
     "output_type": "stream",
     "text": [
      "Test Score: 0.3443995174407959\n",
      "Test Accuracy: 0.8481000065803528\n"
     ]
    }
   ],
   "source": [
    "print(\"Test Score:\", score[0])\n",
    "print(\"Test Accuracy:\", score[1])"
   ]
  },
  {
   "cell_type": "code",
   "execution_count": 57,
   "metadata": {},
   "outputs": [
    {
     "data": {
      "image/png": "[encoded data removed]",
      "text/plain": [
       "<Figure size 432x288 with 1 Axes>"
      ]
     },
     "metadata": {
      "needs_background": "light"
     },
     "output_type": "display_data"
    },
    {
     "data": {
      "image/png": "[encoded data removed]",
      "text/plain": [
       "<Figure size 432x288 with 1 Axes>"
      ]
     },
     "metadata": {
      "needs_background": "light"
     },
     "output_type": "display_data"
    }
   ],
   "source": [
    "# Eğitim ve test setleri arasındaki kayıp ve doğruluk farklılıklarını açıkça görebilirsiniz.\n",
    "import matplotlib.pyplot as plt\n",
    "\n",
    "plt.plot(history.history['acc'])\n",
    "plt.plot(history.history['val_acc'])\n",
    "\n",
    "plt.title('model accuracy')\n",
    "plt.ylabel('accuracy')\n",
    "plt.xlabel('epoch')\n",
    "plt.legend(['train','test'], loc = 'upper left')\n",
    "plt.show()\n",
    "\n",
    "plt.plot(history.history['loss'])\n",
    "plt.plot(history.history['val_loss'])\n",
    "\n",
    "plt.title('model loss')\n",
    "plt.ylabel('loss')\n",
    "plt.xlabel('epoch')\n",
    "plt.legend(['train','test'], loc = 'upper left')\n",
    "plt.show()"
   ]
  },
  {
   "cell_type": "code",
   "execution_count": null,
   "metadata": {},
   "outputs": [],
   "source": []
  },
  {
   "cell_type": "markdown",
   "metadata": {},
   "source": [
    "<a id=\"6\"></a>\n",
    "\n",
    "<font color=\"purple\">\n",
    "    \n",
    "# Text Classification with Recurrent Neural Network (Tekrarlayan sinir ağı) & LSTM\n",
    "\n",
    "<font color=\"black\" size=\"3\">\n",
    "    \n",
    "Tekrarlayan sinir ağı, dizi verileriyle iyi çalıştığı kanıtlanmış bir sinir ağı türüdür.<br> Metin aslında bir kelime dizisi olduğundan, tekrarlayan bir sinir ağı metinle ilgili sorunları çözmek için otomatik bir seçimdir.<br>\n",
    "\n",
    "Bu bölümde, duyarlılık (sentiment) sınıflandırma problemini çözmek için RNN'nin bir varyantı olan bir LSTM (Uzun Kısa Süreli Bellek ağı) kullanacağız.<br>\n",
    "\n",
    "Bir kez daha, kelime gömme bölümüne kadar kodu yürütün ve bundan sonra aşağıdaki kod parçasını çalıştırın."
   ]
  },
  {
   "cell_type": "code",
   "execution_count": 48,
   "metadata": {},
   "outputs": [],
   "source": [
    "import tensorflow as tf\n",
    "from tensorflow import keras\n",
    "\n",
    "from keras.layers.core import Dense, Dropout\n",
    "from keras.layers.recurrent import LSTM\n",
    "from keras.models import Sequential\n",
    "\n",
    "\n",
    "\n",
    "model = Sequential()\n",
    "embedding_layer = Embedding(vocab_size, 100, weights=[embedding_matrix], input_length=maxlen , trainable=False)\n",
    "model.add(embedding_layer)\n",
    "model.add(LSTM(128))\n",
    "\n",
    "model.add(Dense(1, activation='sigmoid'))\n",
    "model.compile(optimizer='adam', loss='binary_crossentropy', metrics=['acc'])"
   ]
  },
  {
   "cell_type": "markdown",
   "metadata": {},
   "source": [
    "Yukarıdaki komut dosyasında, ardışık bir model başlatarak ardından gömme katmanının oluşturulmasını başlatacağız.Sonra, 128 nöron ile bir LSTM katmanı oluştururuz (nöron sayısı ile oynayabilirsiniz).\n",
    "Modelimizin özetini çizelim."
   ]
  },
  {
   "cell_type": "code",
   "execution_count": 49,
   "metadata": {},
   "outputs": [
    {
     "name": "stdout",
     "output_type": "stream",
     "text": [
      "Model: \"sequential_4\"\n",
      "_________________________________________________________________\n",
      "Layer (type)                 Output Shape              Param #   \n",
      "=================================================================\n",
      "embedding_4 (Embedding)      (None, 100, 100)          9254700   \n",
      "_________________________________________________________________\n",
      "lstm_1 (LSTM)                (None, 128)               117248    \n",
      "_________________________________________________________________\n",
      "dense_2 (Dense)              (None, 1)                 129       \n",
      "=================================================================\n",
      "Total params: 9,372,077\n",
      "Trainable params: 117,377\n",
      "Non-trainable params: 9,254,700\n",
      "_________________________________________________________________\n",
      "None\n"
     ]
    }
   ],
   "source": [
    "print(model.summary())"
   ]
  },
  {
   "cell_type": "code",
   "execution_count": 50,
   "metadata": {},
   "outputs": [],
   "source": [
    "# Bir sonraki adımımız modeli eğitim setinde eğitmek ve test setindeki performansını değerlendirmektir."
   ]
  },
  {
   "cell_type": "code",
   "execution_count": 51,
   "metadata": {},
   "outputs": [],
   "source": [
    "# Yukarıdaki komut dosyası, modeli test setinde eğitir. Parti büyüklüğü 128, çağ sayısı 6'dır. \n",
    "# Eğitimin sonunda, eğitim doğruluk oranının olduğunu göreceksiniz."
   ]
  },
  {
   "cell_type": "code",
   "execution_count": 52,
   "metadata": {},
   "outputs": [
    {
     "name": "stdout",
     "output_type": "stream",
     "text": [
      "Train on 32000 samples, validate on 8000 samples\n",
      "Epoch 1/6\n",
      "32000/32000 [==============================] - 74s 2ms/step - loss: 0.5596 - acc: 0.7139 - val_loss: 0.4662 - val_acc: 0.7865\n",
      "Epoch 2/6\n",
      "32000/32000 [==============================] - 78s 2ms/step - loss: 0.4434 - acc: 0.7955 - val_loss: 0.4047 - val_acc: 0.8239\n",
      "Epoch 3/6\n",
      "32000/32000 [==============================] - 82s 3ms/step - loss: 0.3895 - acc: 0.8239 - val_loss: 0.3759 - val_acc: 0.8361\n",
      "Epoch 4/6\n",
      "32000/32000 [==============================] - 79s 2ms/step - loss: 0.3615 - acc: 0.8393 - val_loss: 0.3520 - val_acc: 0.8474\n",
      "Epoch 5/6\n",
      "32000/32000 [==============================] - 87s 3ms/step - loss: 0.3415 - acc: 0.8491 - val_loss: 0.3465 - val_acc: 0.8499\n",
      "Epoch 6/6\n",
      "32000/32000 [==============================] - 84s 3ms/step - loss: 0.3234 - acc: 0.8580 - val_loss: 0.3482 - val_acc: 0.8490\n",
      "10000/10000 [==============================] - 12s 1ms/step\n"
     ]
    }
   ],
   "source": [
    "history = model.fit(X_train, y_train, batch_size=128, epochs=6, verbose=1, validation_split=0.2)\n",
    "\n",
    "score = model.evaluate(X_test, y_test, verbose=1)"
   ]
  },
  {
   "cell_type": "code",
   "execution_count": 58,
   "metadata": {},
   "outputs": [],
   "source": [
    "# Model eğitildikten sonra, test komut dizisindeki model sonuçlarını aşağıdaki komut dosyasıyla görebiliriz:"
   ]
  },
  {
   "cell_type": "code",
   "execution_count": 59,
   "metadata": {},
   "outputs": [
    {
     "name": "stdout",
     "output_type": "stream",
     "text": [
      "Test Score: 0.3443995174407959\n",
      "Test Accuracy: 0.8481000065803528\n"
     ]
    }
   ],
   "source": [
    "print(\"Test Score:\", score[0])\n",
    "print(\"Test Accuracy:\", score[1])"
   ]
  },
  {
   "cell_type": "code",
   "execution_count": 60,
   "metadata": {},
   "outputs": [],
   "source": [
    "# Epoch bilgilerine bakarsanız her bir epochta loss azalırken accuracy artmakta."
   ]
  },
  {
   "cell_type": "code",
   "execution_count": 61,
   "metadata": {},
   "outputs": [
    {
     "data": {
      "image/png": "[encoded data removed]",
      "text/plain": [
       "<Figure size 432x288 with 1 Axes>"
      ]
     },
     "metadata": {
      "needs_background": "light"
     },
     "output_type": "display_data"
    },
    {
     "data": {
      "image/png": "[encoded data removed]",
      "text/plain": [
       "<Figure size 432x288 with 1 Axes>"
      ]
     },
     "metadata": {
      "needs_background": "light"
     },
     "output_type": "display_data"
    }
   ],
   "source": [
    "import matplotlib.pyplot as plt\n",
    "\n",
    "plt.plot(history.history['acc'])\n",
    "plt.plot(history.history['val_acc'])\n",
    "\n",
    "plt.title('model accuracy')\n",
    "plt.ylabel('accuracy')\n",
    "plt.xlabel('epoch')\n",
    "plt.legend(['train','test'], loc='upper left')\n",
    "plt.show()\n",
    "\n",
    "plt.plot(history.history['loss'])\n",
    "plt.plot(history.history['val_loss'])\n",
    "\n",
    "plt.title('model loss')\n",
    "plt.ylabel('loss')\n",
    "plt.xlabel('epoch')\n",
    "plt.legend(['train','test'], loc='upper left')\n",
    "plt.show()"
   ]
  },
  {
   "cell_type": "code",
   "execution_count": null,
   "metadata": {},
   "outputs": [],
   "source": [
    "# Ayşenur Kazan 1188132111"
   ]
  },
  {
   "cell_type": "code",
   "execution_count": null,
   "metadata": {},
   "outputs": [],
   "source": []
  },
  {
   "cell_type": "code",
   "execution_count": null,
   "metadata": {},
   "outputs": [],
   "source": []
  },
  {
   "cell_type": "code",
   "execution_count": null,
   "metadata": {},
   "outputs": [],
   "source": []
  }
 ],
 "metadata": {
  "kernelspec": {
   "display_name": "Python 3",
   "language": "python",
   "name": "python3"
  },
  "language_info": {
   "codemirror_mode": {
    "name": "ipython",
    "version": 3
   },
   "file_extension": ".py",
   "mimetype": "text/x-python",
   "name": "python",
   "nbconvert_exporter": "python",
   "pygments_lexer": "ipython3",
   "version": "3.7.6"
  }
 },
 "nbformat": 4,
 "nbformat_minor": 4
}
